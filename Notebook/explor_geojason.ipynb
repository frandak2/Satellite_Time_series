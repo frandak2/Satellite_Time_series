{
 "cells": [
  {
   "cell_type": "code",
   "execution_count": 12,
   "source": [
    "import ee\r\n",
    "import geopandas as gpd\r\n",
    "import geemap as gmp"
   ],
   "outputs": [],
   "metadata": {}
  },
  {
   "cell_type": "code",
   "execution_count": 13,
   "source": [
    "ee.Initialize()"
   ],
   "outputs": [],
   "metadata": {}
  },
  {
   "cell_type": "code",
   "execution_count": 14,
   "source": [
    "import os\r\n",
    "g = os.getcwd()\r\n",
    "g\r\n",
    "path = 'D:\\\\repos\\\\CIAT\\\\Satellite_Time_series'\r\n",
    "os.chdir(path)"
   ],
   "outputs": [],
   "metadata": {}
  },
  {
   "cell_type": "code",
   "execution_count": 20,
   "source": [
    "ROI = gpd.read_file('Data\\map_granja01_JO.geojson')\r\n",
    "# ROI.head()\r\n",
    "ROI = gmp.geopandas_to_ee(ROI)"
   ],
   "outputs": [],
   "metadata": {}
  },
  {
   "cell_type": "code",
   "execution_count": 21,
   "source": [
    "Map = geemap.Map()\r\n"
   ],
   "outputs": [],
   "metadata": {}
  },
  {
   "cell_type": "code",
   "execution_count": 29,
   "source": [
    "Map.add_basemap('HYBRID')\r\n",
    "Map.centerObject(ROI,16)\r\n",
    "Map.addLayer(ROI, {}, \"polygon01\")"
   ],
   "outputs": [],
   "metadata": {}
  },
  {
   "cell_type": "code",
   "execution_count": 23,
   "source": [
    "Map"
   ],
   "outputs": [
    {
     "output_type": "display_data",
     "data": {
      "text/plain": [
       "Map(center=[5.769593316045795, -75.83585486245441], controls=(WidgetControl(options=['position'], widget=HBox(…"
      ],
      "application/vnd.jupyter.widget-view+json": {
       "version_major": 2,
       "version_minor": 0,
       "model_id": "6ec6db75be5b48dda93f591e821c477c"
      }
     },
     "metadata": {}
    }
   ],
   "metadata": {}
  },
  {
   "cell_type": "code",
   "execution_count": 25,
   "source": [
    "ROI2 = gpd.read_file('Data\\map_granja02_JV.geojson')\r\n",
    "ROI2 = gmp.geopandas_to_ee(ROI2)"
   ],
   "outputs": [],
   "metadata": {}
  },
  {
   "cell_type": "code",
   "execution_count": 26,
   "source": [
    "Map.add_basemap('HYBRID')\r\n",
    "Map.centerObject(ROI2,16)\r\n",
    "Map.addLayer(ROI2, {}, \"polygon01\")"
   ],
   "outputs": [],
   "metadata": {}
  },
  {
   "cell_type": "code",
   "execution_count": 27,
   "source": [
    "Map"
   ],
   "outputs": [
    {
     "output_type": "display_data",
     "data": {
      "text/plain": [
       "Map(bottom=8151706.0, center=[5.083125025624618, -75.6632622442669], controls=(WidgetControl(options=['positio…"
      ],
      "application/vnd.jupyter.widget-view+json": {
       "version_major": 2,
       "version_minor": 0,
       "model_id": "6ec6db75be5b48dda93f591e821c477c"
      }
     },
     "metadata": {}
    }
   ],
   "metadata": {}
  },
  {
   "cell_type": "code",
   "execution_count": null,
   "source": [],
   "outputs": [],
   "metadata": {}
  }
 ],
 "metadata": {
  "orig_nbformat": 4,
  "language_info": {
   "name": "python",
   "version": "3.8.5",
   "mimetype": "text/x-python",
   "codemirror_mode": {
    "name": "ipython",
    "version": 3
   },
   "pygments_lexer": "ipython3",
   "nbconvert_exporter": "python",
   "file_extension": ".py"
  },
  "kernelspec": {
   "name": "python3",
   "display_name": "Python 3.8.5 64-bit ('GEE': conda)"
  },
  "interpreter": {
   "hash": "8d5fc162b902d0d05b5fbb90979fcff20ef7a94b0a57b056583eee350034bd1c"
  }
 },
 "nbformat": 4,
 "nbformat_minor": 2
}