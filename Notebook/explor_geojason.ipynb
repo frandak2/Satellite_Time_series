{
 "cells": [
  {
   "cell_type": "code",
   "execution_count": 1,
   "source": [
    "# import ee\r\n",
    "import geopandas \r\n",
    "# import geemap as gmp"
   ],
   "outputs": [],
   "metadata": {}
  },
  {
   "cell_type": "code",
   "execution_count": null,
   "source": [],
   "outputs": [],
   "metadata": {}
  },
  {
   "cell_type": "code",
   "execution_count": null,
   "source": [
    "ee.Initialize()"
   ],
   "outputs": [],
   "metadata": {}
  },
  {
   "cell_type": "code",
   "execution_count": null,
   "source": [
    "import os\r\n",
    "g = os.getcwd()\r\n",
    "g\r\n",
    "path = 'D:\\\\repos\\\\CIAT\\\\Satellite_Time_series'\r\n",
    "os.chdir(path)"
   ],
   "outputs": [],
   "metadata": {}
  },
  {
   "cell_type": "code",
   "execution_count": null,
   "source": [
    "ROI = gpd.read_file('Data\\map_granja01_JO.geojson')\r\n",
    "# ROI.head()\r\n",
    "ROI = gmp.geopandas_to_ee(ROI)"
   ],
   "outputs": [],
   "metadata": {}
  },
  {
   "cell_type": "code",
   "execution_count": null,
   "source": [
    "Map = geemap.Map()\r\n"
   ],
   "outputs": [],
   "metadata": {}
  },
  {
   "cell_type": "code",
   "execution_count": null,
   "source": [
    "Map.add_basemap('HYBRID')\r\n",
    "Map.centerObject(ROI,16)\r\n",
    "Map.addLayer(ROI, {}, \"polygon01\")"
   ],
   "outputs": [],
   "metadata": {}
  },
  {
   "cell_type": "code",
   "execution_count": null,
   "source": [
    "Map"
   ],
   "outputs": [],
   "metadata": {}
  },
  {
   "cell_type": "code",
   "execution_count": null,
   "source": [
    "ROI2 = gpd.read_file('Data\\map_granja02_JV.geojson')\r\n",
    "ROI2 = gmp.geopandas_to_ee(ROI2)"
   ],
   "outputs": [],
   "metadata": {}
  },
  {
   "cell_type": "code",
   "execution_count": null,
   "source": [
    "Map.add_basemap('HYBRID')\r\n",
    "Map.centerObject(ROI2,16)\r\n",
    "Map.addLayer(ROI2, {}, \"polygon01\")"
   ],
   "outputs": [],
   "metadata": {}
  },
  {
   "cell_type": "code",
   "execution_count": null,
   "source": [
    "Map"
   ],
   "outputs": [],
   "metadata": {}
  },
  {
   "cell_type": "code",
   "execution_count": null,
   "source": [],
   "outputs": [],
   "metadata": {}
  }
 ],
 "metadata": {
  "orig_nbformat": 4,
  "language_info": {
   "name": "python",
   "version": "3.8.11",
   "mimetype": "text/x-python",
   "codemirror_mode": {
    "name": "ipython",
    "version": 3
   },
   "pygments_lexer": "ipython3",
   "nbconvert_exporter": "python",
   "file_extension": ".py"
  },
  "kernelspec": {
   "name": "python3",
   "display_name": "Python 3.8.11 64-bit ('geods': conda)"
  },
  "interpreter": {
   "hash": "2a2c85e96d8b745be15ccef6d7c1cda10502afc361cd63b2d0594212eb03dc2b"
  }
 },
 "nbformat": 4,
 "nbformat_minor": 2
}