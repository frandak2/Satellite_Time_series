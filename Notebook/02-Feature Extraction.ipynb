{
 "cells": [
  {
   "cell_type": "markdown",
   "source": [
    "# Import librarys and initialize whit Google credential"
   ],
   "metadata": {}
  },
  {
   "cell_type": "code",
   "execution_count": 34,
   "source": [
    "import ee, eemont, geemap\r\n",
    "import pandas as pd\r\n",
    "import numpy as np\r\n",
    "import seaborn as sns\r\n",
    "import geopandas as gpd\r\n",
    "from matplotlib import pyplot as plt"
   ],
   "outputs": [],
   "metadata": {}
  },
  {
   "cell_type": "code",
   "execution_count": 35,
   "source": [
    "ee.Initialize()\r\n",
    "Map = geemap.Map()"
   ],
   "outputs": [],
   "metadata": {}
  },
  {
   "cell_type": "markdown",
   "source": [
    "## set work directory to better manage of information"
   ],
   "metadata": {}
  },
  {
   "cell_type": "code",
   "execution_count": 36,
   "source": [
    "import os,glob\r\n",
    "g = os.getcwd()\r\n",
    "g\r\n",
    "path = 'D:\\\\repos\\\\CIAT\\\\Satellite_Time_series'\r\n",
    "os.chdir(path)"
   ],
   "outputs": [],
   "metadata": {}
  },
  {
   "cell_type": "code",
   "execution_count": 37,
   "source": [
    "ROI1 = gpd.read_file('Data\\map_granja01_JO.geojson')\r\n",
    "ROI2 = gpd.read_file('Data\\map_granja02_JV.geojson')\r\n",
    "# ROI1 = gmp.geopandas_to_ee(ROI1)\r\n",
    "# ROI2 = gmp.geopandas_to_ee(ROI2)\r\n",
    "\r\n"
   ],
   "outputs": [],
   "metadata": {}
  },
  {
   "cell_type": "code",
   "execution_count": 40,
   "source": [
    "# search images Sentinel 2 since January 2019 to Agust 2020 in the Region Of Interes (ROI have convexhull)\r\n",
    "def FT_Satellite(sensor,ROI,data_ini = '2019-01-01',data_end = '2021-07-30',VIs=['NDVI','EVI','GNDVI']):\r\n",
    "      '''\r\n",
    "      sensor is the satellite image to select:\r\n",
    "      S2_SR = SENTINEL 2 REFLECTANCE\r\n",
    "      S1_GRD = SENTINEL 1 RADAR\r\n",
    "\r\n",
    "      return Dataframe with VIs by each plot\r\n",
    "      '''\r\n",
    "      ROI = geemap.geopandas_to_ee(ROI)\r\n",
    "      if sensor == \"S2_SR\" or sensor == \"S1_GRD\" :\r\n",
    "            S2 = (ee.ImageCollection('COPERNICUS/'+sensor)\r\n",
    "                  .filterDate(data_ini,data_end)\r\n",
    "                  .filterBounds(ROI)\r\n",
    "                  .maskClouds()\r\n",
    "                  .scale()\r\n",
    "                  .index(VIs))\r\n",
    "      ts = S2.getTimeSeriesByRegions(reducer = [ee.Reducer.mean(),ee.Reducer.median()],\r\n",
    "                              geometry = ROI,\r\n",
    "                              bands = VIs,\r\n",
    "                              scale = 10)\r\n",
    "      return geemap.ee_to_pandas(ts)"
   ],
   "outputs": [],
   "metadata": {}
  },
  {
   "cell_type": "code",
   "execution_count": 41,
   "source": [
    "tsPandas = FT_Satellite(\"S2_SR\", ROI1)"
   ],
   "outputs": [
    {
     "output_type": "error",
     "ename": "AttributeError",
     "evalue": "'ImageCollection' object has no attribute 'getTimeSeriesByRegions'",
     "traceback": [
      "\u001b[1;31m---------------------------------------------------------------------------\u001b[0m",
      "\u001b[1;31mAttributeError\u001b[0m                            Traceback (most recent call last)",
      "\u001b[1;32m<ipython-input-41-9f0582487b09>\u001b[0m in \u001b[0;36m<module>\u001b[1;34m\u001b[0m\n\u001b[1;32m----> 1\u001b[1;33m \u001b[0mtsPandas\u001b[0m \u001b[1;33m=\u001b[0m \u001b[0mFT_Satellite\u001b[0m\u001b[1;33m(\u001b[0m\u001b[1;34m\"S2_SR\"\u001b[0m\u001b[1;33m,\u001b[0m \u001b[0mROI1\u001b[0m\u001b[1;33m)\u001b[0m\u001b[1;33m\u001b[0m\u001b[1;33m\u001b[0m\u001b[0m\n\u001b[0m",
      "\u001b[1;32m<ipython-input-40-ca6a0a52640e>\u001b[0m in \u001b[0;36mFT_Satellite\u001b[1;34m(sensor, ROI, data_ini, data_end, VIs)\u001b[0m\n\u001b[0;32m     16\u001b[0m                   \u001b[1;33m.\u001b[0m\u001b[0mscale\u001b[0m\u001b[1;33m(\u001b[0m\u001b[1;33m)\u001b[0m\u001b[1;33m\u001b[0m\u001b[1;33m\u001b[0m\u001b[0m\n\u001b[0;32m     17\u001b[0m                   .index(VIs))\n\u001b[1;32m---> 18\u001b[1;33m       ts = S2.getTimeSeriesByRegions(reducer = [ee.Reducer.mean(),ee.Reducer.median()],\n\u001b[0m\u001b[0;32m     19\u001b[0m                               \u001b[0mgeometry\u001b[0m \u001b[1;33m=\u001b[0m \u001b[0mROI\u001b[0m\u001b[1;33m,\u001b[0m\u001b[1;33m\u001b[0m\u001b[1;33m\u001b[0m\u001b[0m\n\u001b[0;32m     20\u001b[0m                               \u001b[0mbands\u001b[0m \u001b[1;33m=\u001b[0m \u001b[0mVIs\u001b[0m\u001b[1;33m,\u001b[0m\u001b[1;33m\u001b[0m\u001b[1;33m\u001b[0m\u001b[0m\n",
      "\u001b[1;31mAttributeError\u001b[0m: 'ImageCollection' object has no attribute 'getTimeSeriesByRegions'"
     ]
    }
   ],
   "metadata": {}
  },
  {
   "cell_type": "code",
   "execution_count": null,
   "source": [
    "tsPandas[tsPandas == -9999] = np.nan\r\n",
    "tsPandas['date'] = pd.to_datetime(tsPandas['date'],infer_datetime_format = True)"
   ],
   "outputs": [],
   "metadata": {}
  },
  {
   "cell_type": "code",
   "execution_count": null,
   "source": [
    "tsPandas = pd.melt(tsPandas,\r\n",
    "                    id_vars = ['reducer','date'],\r\n",
    "                    value_vars = ['NDVI,EVI,GNDVI'],\r\n",
    "                    var_name = 'Index',\r\n",
    "                    value_name = 'Value')"
   ],
   "outputs": [],
   "metadata": {}
  },
  {
   "cell_type": "code",
   "execution_count": null,
   "source": [
    "plt.figure(figsize = (20,10))\r\n",
    "sns.lineplot(data = tsPandas,\r\n",
    "            x = 'date',\r\n",
    "            y = 'Value',\r\n",
    "            hue = 'Index',\r\n",
    "            style = 'reducer')"
   ],
   "outputs": [],
   "metadata": {}
  },
  {
   "cell_type": "code",
   "execution_count": null,
   "source": [],
   "outputs": [],
   "metadata": {}
  }
 ],
 "metadata": {
  "kernelspec": {
   "name": "python3",
   "display_name": "Python 3.8.5 64-bit ('GEE': conda)"
  },
  "language_info": {
   "codemirror_mode": {
    "name": "ipython",
    "version": 3
   },
   "file_extension": ".py",
   "mimetype": "text/x-python",
   "name": "python",
   "nbconvert_exporter": "python",
   "pygments_lexer": "ipython3",
   "version": "3.8.5"
  },
  "interpreter": {
   "hash": "8d5fc162b902d0d05b5fbb90979fcff20ef7a94b0a57b056583eee350034bd1c"
  }
 },
 "nbformat": 4,
 "nbformat_minor": 4
}